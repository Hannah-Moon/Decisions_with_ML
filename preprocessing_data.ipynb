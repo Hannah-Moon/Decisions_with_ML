{
 "cells": [
  {
   "cell_type": "code",
   "execution_count": 32,
   "metadata": {
    "ExecuteTime": {
     "end_time": "2021-09-28T13:05:11.919552Z",
     "start_time": "2021-09-28T13:05:11.916672Z"
    }
   },
   "outputs": [],
   "source": [
    "import pandas as pd\n",
    "import numpy as np\n",
    "import seaborn as sns\n",
    "import matplotlib.pyplot as plt\n",
    "import dice_ml\n",
    "from dice_ml.utils import helpers "
   ]
  },
  {
   "cell_type": "code",
   "execution_count": 33,
   "metadata": {
    "ExecuteTime": {
     "end_time": "2021-09-28T13:05:14.328359Z",
     "start_time": "2021-09-28T13:05:12.164810Z"
    }
   },
   "outputs": [],
   "source": [
    "df = helpers.load_adult_income_dataset()"
   ]
  },
  {
   "cell_type": "code",
   "execution_count": 34,
   "metadata": {
    "ExecuteTime": {
     "end_time": "2021-09-28T13:05:14.525774Z",
     "start_time": "2021-09-28T13:05:14.506057Z"
    }
   },
   "outputs": [
    {
     "name": "stdout",
     "output_type": "stream",
     "text": [
      "<class 'pandas.core.frame.DataFrame'>\n",
      "RangeIndex: 26048 entries, 0 to 26047\n",
      "Data columns (total 9 columns):\n",
      " #   Column          Non-Null Count  Dtype \n",
      "---  ------          --------------  ----- \n",
      " 0   age             26048 non-null  int64 \n",
      " 1   workclass       26048 non-null  object\n",
      " 2   education       26048 non-null  object\n",
      " 3   marital_status  26048 non-null  object\n",
      " 4   occupation      26048 non-null  object\n",
      " 5   race            26048 non-null  object\n",
      " 6   gender          26048 non-null  object\n",
      " 7   hours_per_week  26048 non-null  int64 \n",
      " 8   income          26048 non-null  int64 \n",
      "dtypes: int64(3), object(6)\n",
      "memory usage: 1.8+ MB\n"
     ]
    }
   ],
   "source": [
    "df.info()"
   ]
  },
  {
   "cell_type": "code",
   "execution_count": 35,
   "metadata": {
    "ExecuteTime": {
     "end_time": "2021-09-28T13:05:14.697951Z",
     "start_time": "2021-09-28T13:05:14.689993Z"
    }
   },
   "outputs": [
    {
     "data": {
      "text/html": [
       "<div>\n",
       "<style scoped>\n",
       "    .dataframe tbody tr th:only-of-type {\n",
       "        vertical-align: middle;\n",
       "    }\n",
       "\n",
       "    .dataframe tbody tr th {\n",
       "        vertical-align: top;\n",
       "    }\n",
       "\n",
       "    .dataframe thead th {\n",
       "        text-align: right;\n",
       "    }\n",
       "</style>\n",
       "<table border=\"1\" class=\"dataframe\">\n",
       "  <thead>\n",
       "    <tr style=\"text-align: right;\">\n",
       "      <th></th>\n",
       "      <th>age</th>\n",
       "      <th>workclass</th>\n",
       "      <th>education</th>\n",
       "      <th>marital_status</th>\n",
       "      <th>occupation</th>\n",
       "      <th>race</th>\n",
       "      <th>gender</th>\n",
       "      <th>hours_per_week</th>\n",
       "      <th>income</th>\n",
       "    </tr>\n",
       "  </thead>\n",
       "  <tbody>\n",
       "    <tr>\n",
       "      <th>0</th>\n",
       "      <td>28</td>\n",
       "      <td>Private</td>\n",
       "      <td>Bachelors</td>\n",
       "      <td>Single</td>\n",
       "      <td>White-Collar</td>\n",
       "      <td>White</td>\n",
       "      <td>Female</td>\n",
       "      <td>60</td>\n",
       "      <td>0</td>\n",
       "    </tr>\n",
       "    <tr>\n",
       "      <th>1</th>\n",
       "      <td>30</td>\n",
       "      <td>Self-Employed</td>\n",
       "      <td>Assoc</td>\n",
       "      <td>Married</td>\n",
       "      <td>Professional</td>\n",
       "      <td>White</td>\n",
       "      <td>Male</td>\n",
       "      <td>65</td>\n",
       "      <td>1</td>\n",
       "    </tr>\n",
       "    <tr>\n",
       "      <th>2</th>\n",
       "      <td>32</td>\n",
       "      <td>Private</td>\n",
       "      <td>Some-college</td>\n",
       "      <td>Married</td>\n",
       "      <td>White-Collar</td>\n",
       "      <td>White</td>\n",
       "      <td>Male</td>\n",
       "      <td>50</td>\n",
       "      <td>0</td>\n",
       "    </tr>\n",
       "    <tr>\n",
       "      <th>3</th>\n",
       "      <td>20</td>\n",
       "      <td>Private</td>\n",
       "      <td>Some-college</td>\n",
       "      <td>Single</td>\n",
       "      <td>Service</td>\n",
       "      <td>White</td>\n",
       "      <td>Female</td>\n",
       "      <td>35</td>\n",
       "      <td>0</td>\n",
       "    </tr>\n",
       "    <tr>\n",
       "      <th>4</th>\n",
       "      <td>41</td>\n",
       "      <td>Self-Employed</td>\n",
       "      <td>Some-college</td>\n",
       "      <td>Married</td>\n",
       "      <td>White-Collar</td>\n",
       "      <td>White</td>\n",
       "      <td>Male</td>\n",
       "      <td>50</td>\n",
       "      <td>0</td>\n",
       "    </tr>\n",
       "  </tbody>\n",
       "</table>\n",
       "</div>"
      ],
      "text/plain": [
       "   age      workclass     education marital_status    occupation   race  \\\n",
       "0   28        Private     Bachelors         Single  White-Collar  White   \n",
       "1   30  Self-Employed         Assoc        Married  Professional  White   \n",
       "2   32        Private  Some-college        Married  White-Collar  White   \n",
       "3   20        Private  Some-college         Single       Service  White   \n",
       "4   41  Self-Employed  Some-college        Married  White-Collar  White   \n",
       "\n",
       "   gender  hours_per_week  income  \n",
       "0  Female              60       0  \n",
       "1    Male              65       1  \n",
       "2    Male              50       0  \n",
       "3  Female              35       0  \n",
       "4    Male              50       0  "
      ]
     },
     "execution_count": 35,
     "metadata": {},
     "output_type": "execute_result"
    }
   ],
   "source": [
    "df.head()"
   ]
  },
  {
   "cell_type": "code",
   "execution_count": 36,
   "metadata": {
    "ExecuteTime": {
     "end_time": "2021-09-28T13:05:14.868415Z",
     "start_time": "2021-09-28T13:05:14.854974Z"
    }
   },
   "outputs": [],
   "source": [
    "df.drop(columns= ['race', 'gender'], inplace = True)\n",
    "df_minority  = df[df['income']==1]\n",
    "df_majority = df[df['income']==0]\n",
    "\n",
    "### Now, downsamples majority labels equal to the number of samples in the minority class\n",
    "\n",
    "df_majority = df_majority.sample(500, random_state=0)\n",
    "df_minority = df_minority.sample(500, random_state=0)\n",
    "\n",
    "### concat the majority and minority dataframes\n",
    "df2 = pd.concat([df_majority,df_minority])\n",
    "\n",
    "## Shuffle the dataset to prevent the model from getting biased by similar samples\n",
    "df2 = df2.sample(frac=1, random_state=0)"
   ]
  },
  {
   "cell_type": "code",
   "execution_count": 37,
   "metadata": {
    "ExecuteTime": {
     "end_time": "2021-09-28T13:05:15.032364Z",
     "start_time": "2021-09-28T13:05:15.025852Z"
    }
   },
   "outputs": [],
   "source": [
    "df2.to_csv(\"data/income-ceml.csv\")"
   ]
  },
  {
   "cell_type": "code",
   "execution_count": 38,
   "metadata": {
    "ExecuteTime": {
     "end_time": "2021-09-28T13:05:15.188462Z",
     "start_time": "2021-09-28T13:05:15.185460Z"
    }
   },
   "outputs": [
    {
     "data": {
      "text/plain": [
       "(1000, 7)"
      ]
     },
     "execution_count": 38,
     "metadata": {},
     "output_type": "execute_result"
    }
   ],
   "source": [
    "df2.shape"
   ]
  },
  {
   "cell_type": "markdown",
   "metadata": {
    "ExecuteTime": {
     "end_time": "2021-09-27T15:30:46.726856Z",
     "start_time": "2021-09-27T15:30:46.709289Z"
    }
   },
   "source": [
    "## Workclass column - need dummies for all categories"
   ]
  },
  {
   "cell_type": "code",
   "execution_count": 7,
   "metadata": {
    "ExecuteTime": {
     "end_time": "2021-09-28T13:02:39.393459Z",
     "start_time": "2021-09-28T13:02:39.387260Z"
    }
   },
   "outputs": [
    {
     "data": {
      "text/plain": [
       "4"
      ]
     },
     "execution_count": 7,
     "metadata": {},
     "output_type": "execute_result"
    }
   ],
   "source": [
    "df.workclass.nunique()"
   ]
  },
  {
   "cell_type": "code",
   "execution_count": 8,
   "metadata": {
    "ExecuteTime": {
     "end_time": "2021-09-28T13:02:39.402061Z",
     "start_time": "2021-09-28T13:02:39.395547Z"
    }
   },
   "outputs": [],
   "source": [
    "workclass_dummies = pd.get_dummies(df['workclass'], prefix = 'workclass', drop_first= True)"
   ]
  },
  {
   "cell_type": "markdown",
   "metadata": {},
   "source": [
    "## Martial Status column - get dummies"
   ]
  },
  {
   "cell_type": "code",
   "execution_count": 9,
   "metadata": {
    "ExecuteTime": {
     "end_time": "2021-09-28T13:02:39.407891Z",
     "start_time": "2021-09-28T13:02:39.403253Z"
    }
   },
   "outputs": [
    {
     "data": {
      "text/plain": [
       "5"
      ]
     },
     "execution_count": 9,
     "metadata": {},
     "output_type": "execute_result"
    }
   ],
   "source": [
    "df.marital_status.nunique()"
   ]
  },
  {
   "cell_type": "code",
   "execution_count": 10,
   "metadata": {
    "ExecuteTime": {
     "end_time": "2021-09-28T13:02:39.415594Z",
     "start_time": "2021-09-28T13:02:39.409888Z"
    }
   },
   "outputs": [],
   "source": [
    "marital_dummies = pd.get_dummies(df['marital_status'], prefix = 'marital_status', drop_first= True)"
   ]
  },
  {
   "cell_type": "markdown",
   "metadata": {},
   "source": [
    "## Education column - need dummies"
   ]
  },
  {
   "cell_type": "code",
   "execution_count": 11,
   "metadata": {
    "ExecuteTime": {
     "end_time": "2021-09-28T13:02:39.423558Z",
     "start_time": "2021-09-28T13:02:39.417329Z"
    },
    "scrolled": true
   },
   "outputs": [
    {
     "data": {
      "text/plain": [
       "8"
      ]
     },
     "execution_count": 11,
     "metadata": {},
     "output_type": "execute_result"
    }
   ],
   "source": [
    "df.education.nunique()"
   ]
  },
  {
   "cell_type": "code",
   "execution_count": 12,
   "metadata": {
    "ExecuteTime": {
     "end_time": "2021-09-28T13:02:39.430983Z",
     "start_time": "2021-09-28T13:02:39.424723Z"
    }
   },
   "outputs": [],
   "source": [
    "edu_dummies = pd.get_dummies(df['education'], prefix = 'education', drop_first= True)"
   ]
  },
  {
   "cell_type": "markdown",
   "metadata": {},
   "source": [
    "## Occupation column - need dummies"
   ]
  },
  {
   "cell_type": "code",
   "execution_count": 13,
   "metadata": {
    "ExecuteTime": {
     "end_time": "2021-09-28T13:02:39.437282Z",
     "start_time": "2021-09-28T13:02:39.432574Z"
    }
   },
   "outputs": [
    {
     "data": {
      "text/plain": [
       "6"
      ]
     },
     "execution_count": 13,
     "metadata": {},
     "output_type": "execute_result"
    }
   ],
   "source": [
    "df.occupation.nunique()"
   ]
  },
  {
   "cell_type": "code",
   "execution_count": 14,
   "metadata": {
    "ExecuteTime": {
     "end_time": "2021-09-28T13:02:39.443957Z",
     "start_time": "2021-09-28T13:02:39.438894Z"
    }
   },
   "outputs": [],
   "source": [
    "occupation_dummies = pd.get_dummies(df['occupation'], prefix = 'occupation', drop_first= True)"
   ]
  },
  {
   "cell_type": "markdown",
   "metadata": {},
   "source": [
    "## Removing columns which we will not be using"
   ]
  },
  {
   "cell_type": "code",
   "execution_count": 15,
   "metadata": {
    "ExecuteTime": {
     "end_time": "2021-09-28T13:02:39.454240Z",
     "start_time": "2021-09-28T13:02:39.445862Z"
    }
   },
   "outputs": [
    {
     "data": {
      "text/html": [
       "<div>\n",
       "<style scoped>\n",
       "    .dataframe tbody tr th:only-of-type {\n",
       "        vertical-align: middle;\n",
       "    }\n",
       "\n",
       "    .dataframe tbody tr th {\n",
       "        vertical-align: top;\n",
       "    }\n",
       "\n",
       "    .dataframe thead th {\n",
       "        text-align: right;\n",
       "    }\n",
       "</style>\n",
       "<table border=\"1\" class=\"dataframe\">\n",
       "  <thead>\n",
       "    <tr style=\"text-align: right;\">\n",
       "      <th></th>\n",
       "      <th>age</th>\n",
       "      <th>workclass</th>\n",
       "      <th>education</th>\n",
       "      <th>marital_status</th>\n",
       "      <th>occupation</th>\n",
       "      <th>hours_per_week</th>\n",
       "      <th>income</th>\n",
       "    </tr>\n",
       "  </thead>\n",
       "  <tbody>\n",
       "    <tr>\n",
       "      <th>0</th>\n",
       "      <td>28</td>\n",
       "      <td>Private</td>\n",
       "      <td>Bachelors</td>\n",
       "      <td>Single</td>\n",
       "      <td>White-Collar</td>\n",
       "      <td>60</td>\n",
       "      <td>0</td>\n",
       "    </tr>\n",
       "    <tr>\n",
       "      <th>1</th>\n",
       "      <td>30</td>\n",
       "      <td>Self-Employed</td>\n",
       "      <td>Assoc</td>\n",
       "      <td>Married</td>\n",
       "      <td>Professional</td>\n",
       "      <td>65</td>\n",
       "      <td>1</td>\n",
       "    </tr>\n",
       "    <tr>\n",
       "      <th>2</th>\n",
       "      <td>32</td>\n",
       "      <td>Private</td>\n",
       "      <td>Some-college</td>\n",
       "      <td>Married</td>\n",
       "      <td>White-Collar</td>\n",
       "      <td>50</td>\n",
       "      <td>0</td>\n",
       "    </tr>\n",
       "    <tr>\n",
       "      <th>3</th>\n",
       "      <td>20</td>\n",
       "      <td>Private</td>\n",
       "      <td>Some-college</td>\n",
       "      <td>Single</td>\n",
       "      <td>Service</td>\n",
       "      <td>35</td>\n",
       "      <td>0</td>\n",
       "    </tr>\n",
       "    <tr>\n",
       "      <th>4</th>\n",
       "      <td>41</td>\n",
       "      <td>Self-Employed</td>\n",
       "      <td>Some-college</td>\n",
       "      <td>Married</td>\n",
       "      <td>White-Collar</td>\n",
       "      <td>50</td>\n",
       "      <td>0</td>\n",
       "    </tr>\n",
       "  </tbody>\n",
       "</table>\n",
       "</div>"
      ],
      "text/plain": [
       "   age      workclass     education marital_status    occupation  \\\n",
       "0   28        Private     Bachelors         Single  White-Collar   \n",
       "1   30  Self-Employed         Assoc        Married  Professional   \n",
       "2   32        Private  Some-college        Married  White-Collar   \n",
       "3   20        Private  Some-college         Single       Service   \n",
       "4   41  Self-Employed  Some-college        Married  White-Collar   \n",
       "\n",
       "   hours_per_week  income  \n",
       "0              60       0  \n",
       "1              65       1  \n",
       "2              50       0  \n",
       "3              35       0  \n",
       "4              50       0  "
      ]
     },
     "execution_count": 15,
     "metadata": {},
     "output_type": "execute_result"
    }
   ],
   "source": [
    "df.head()"
   ]
  },
  {
   "cell_type": "markdown",
   "metadata": {
    "ExecuteTime": {
     "end_time": "2021-09-27T15:40:09.581239Z",
     "start_time": "2021-09-27T15:40:09.578858Z"
    }
   },
   "source": [
    "## Adding the dummy variables back in "
   ]
  },
  {
   "cell_type": "code",
   "execution_count": 16,
   "metadata": {
    "ExecuteTime": {
     "end_time": "2021-09-28T13:02:39.460826Z",
     "start_time": "2021-09-28T13:02:39.455936Z"
    }
   },
   "outputs": [],
   "source": [
    "df = pd.concat([df, workclass_dummies, marital_dummies, edu_dummies, occupation_dummies], axis = 1)"
   ]
  },
  {
   "cell_type": "code",
   "execution_count": 17,
   "metadata": {
    "ExecuteTime": {
     "end_time": "2021-09-28T13:02:39.478704Z",
     "start_time": "2021-09-28T13:02:39.462431Z"
    }
   },
   "outputs": [
    {
     "data": {
      "text/html": [
       "<div>\n",
       "<style scoped>\n",
       "    .dataframe tbody tr th:only-of-type {\n",
       "        vertical-align: middle;\n",
       "    }\n",
       "\n",
       "    .dataframe tbody tr th {\n",
       "        vertical-align: top;\n",
       "    }\n",
       "\n",
       "    .dataframe thead th {\n",
       "        text-align: right;\n",
       "    }\n",
       "</style>\n",
       "<table border=\"1\" class=\"dataframe\">\n",
       "  <thead>\n",
       "    <tr style=\"text-align: right;\">\n",
       "      <th></th>\n",
       "      <th>age</th>\n",
       "      <th>workclass</th>\n",
       "      <th>education</th>\n",
       "      <th>marital_status</th>\n",
       "      <th>occupation</th>\n",
       "      <th>hours_per_week</th>\n",
       "      <th>income</th>\n",
       "      <th>workclass_Other/Unknown</th>\n",
       "      <th>workclass_Private</th>\n",
       "      <th>workclass_Self-Employed</th>\n",
       "      <th>...</th>\n",
       "      <th>education_HS-grad</th>\n",
       "      <th>education_Masters</th>\n",
       "      <th>education_Prof-school</th>\n",
       "      <th>education_School</th>\n",
       "      <th>education_Some-college</th>\n",
       "      <th>occupation_Other/Unknown</th>\n",
       "      <th>occupation_Professional</th>\n",
       "      <th>occupation_Sales</th>\n",
       "      <th>occupation_Service</th>\n",
       "      <th>occupation_White-Collar</th>\n",
       "    </tr>\n",
       "  </thead>\n",
       "  <tbody>\n",
       "    <tr>\n",
       "      <th>0</th>\n",
       "      <td>28</td>\n",
       "      <td>Private</td>\n",
       "      <td>Bachelors</td>\n",
       "      <td>Single</td>\n",
       "      <td>White-Collar</td>\n",
       "      <td>60</td>\n",
       "      <td>0</td>\n",
       "      <td>0</td>\n",
       "      <td>1</td>\n",
       "      <td>0</td>\n",
       "      <td>...</td>\n",
       "      <td>0</td>\n",
       "      <td>0</td>\n",
       "      <td>0</td>\n",
       "      <td>0</td>\n",
       "      <td>0</td>\n",
       "      <td>0</td>\n",
       "      <td>0</td>\n",
       "      <td>0</td>\n",
       "      <td>0</td>\n",
       "      <td>1</td>\n",
       "    </tr>\n",
       "    <tr>\n",
       "      <th>1</th>\n",
       "      <td>30</td>\n",
       "      <td>Self-Employed</td>\n",
       "      <td>Assoc</td>\n",
       "      <td>Married</td>\n",
       "      <td>Professional</td>\n",
       "      <td>65</td>\n",
       "      <td>1</td>\n",
       "      <td>0</td>\n",
       "      <td>0</td>\n",
       "      <td>1</td>\n",
       "      <td>...</td>\n",
       "      <td>0</td>\n",
       "      <td>0</td>\n",
       "      <td>0</td>\n",
       "      <td>0</td>\n",
       "      <td>0</td>\n",
       "      <td>0</td>\n",
       "      <td>1</td>\n",
       "      <td>0</td>\n",
       "      <td>0</td>\n",
       "      <td>0</td>\n",
       "    </tr>\n",
       "    <tr>\n",
       "      <th>2</th>\n",
       "      <td>32</td>\n",
       "      <td>Private</td>\n",
       "      <td>Some-college</td>\n",
       "      <td>Married</td>\n",
       "      <td>White-Collar</td>\n",
       "      <td>50</td>\n",
       "      <td>0</td>\n",
       "      <td>0</td>\n",
       "      <td>1</td>\n",
       "      <td>0</td>\n",
       "      <td>...</td>\n",
       "      <td>0</td>\n",
       "      <td>0</td>\n",
       "      <td>0</td>\n",
       "      <td>0</td>\n",
       "      <td>1</td>\n",
       "      <td>0</td>\n",
       "      <td>0</td>\n",
       "      <td>0</td>\n",
       "      <td>0</td>\n",
       "      <td>1</td>\n",
       "    </tr>\n",
       "    <tr>\n",
       "      <th>3</th>\n",
       "      <td>20</td>\n",
       "      <td>Private</td>\n",
       "      <td>Some-college</td>\n",
       "      <td>Single</td>\n",
       "      <td>Service</td>\n",
       "      <td>35</td>\n",
       "      <td>0</td>\n",
       "      <td>0</td>\n",
       "      <td>1</td>\n",
       "      <td>0</td>\n",
       "      <td>...</td>\n",
       "      <td>0</td>\n",
       "      <td>0</td>\n",
       "      <td>0</td>\n",
       "      <td>0</td>\n",
       "      <td>1</td>\n",
       "      <td>0</td>\n",
       "      <td>0</td>\n",
       "      <td>0</td>\n",
       "      <td>1</td>\n",
       "      <td>0</td>\n",
       "    </tr>\n",
       "    <tr>\n",
       "      <th>4</th>\n",
       "      <td>41</td>\n",
       "      <td>Self-Employed</td>\n",
       "      <td>Some-college</td>\n",
       "      <td>Married</td>\n",
       "      <td>White-Collar</td>\n",
       "      <td>50</td>\n",
       "      <td>0</td>\n",
       "      <td>0</td>\n",
       "      <td>0</td>\n",
       "      <td>1</td>\n",
       "      <td>...</td>\n",
       "      <td>0</td>\n",
       "      <td>0</td>\n",
       "      <td>0</td>\n",
       "      <td>0</td>\n",
       "      <td>1</td>\n",
       "      <td>0</td>\n",
       "      <td>0</td>\n",
       "      <td>0</td>\n",
       "      <td>0</td>\n",
       "      <td>1</td>\n",
       "    </tr>\n",
       "  </tbody>\n",
       "</table>\n",
       "<p>5 rows × 26 columns</p>\n",
       "</div>"
      ],
      "text/plain": [
       "   age      workclass     education marital_status    occupation  \\\n",
       "0   28        Private     Bachelors         Single  White-Collar   \n",
       "1   30  Self-Employed         Assoc        Married  Professional   \n",
       "2   32        Private  Some-college        Married  White-Collar   \n",
       "3   20        Private  Some-college         Single       Service   \n",
       "4   41  Self-Employed  Some-college        Married  White-Collar   \n",
       "\n",
       "   hours_per_week  income  workclass_Other/Unknown  workclass_Private  \\\n",
       "0              60       0                        0                  1   \n",
       "1              65       1                        0                  0   \n",
       "2              50       0                        0                  1   \n",
       "3              35       0                        0                  1   \n",
       "4              50       0                        0                  0   \n",
       "\n",
       "   workclass_Self-Employed  ...  education_HS-grad  education_Masters  \\\n",
       "0                        0  ...                  0                  0   \n",
       "1                        1  ...                  0                  0   \n",
       "2                        0  ...                  0                  0   \n",
       "3                        0  ...                  0                  0   \n",
       "4                        1  ...                  0                  0   \n",
       "\n",
       "   education_Prof-school  education_School  education_Some-college  \\\n",
       "0                      0                 0                       0   \n",
       "1                      0                 0                       0   \n",
       "2                      0                 0                       1   \n",
       "3                      0                 0                       1   \n",
       "4                      0                 0                       1   \n",
       "\n",
       "   occupation_Other/Unknown  occupation_Professional  occupation_Sales  \\\n",
       "0                         0                        0                 0   \n",
       "1                         0                        1                 0   \n",
       "2                         0                        0                 0   \n",
       "3                         0                        0                 0   \n",
       "4                         0                        0                 0   \n",
       "\n",
       "   occupation_Service  occupation_White-Collar  \n",
       "0                   0                        1  \n",
       "1                   0                        0  \n",
       "2                   0                        1  \n",
       "3                   1                        0  \n",
       "4                   0                        1  \n",
       "\n",
       "[5 rows x 26 columns]"
      ]
     },
     "execution_count": 17,
     "metadata": {},
     "output_type": "execute_result"
    }
   ],
   "source": [
    "df.head()"
   ]
  },
  {
   "cell_type": "code",
   "execution_count": 18,
   "metadata": {
    "ExecuteTime": {
     "end_time": "2021-09-28T13:02:39.496666Z",
     "start_time": "2021-09-28T13:02:39.479885Z"
    }
   },
   "outputs": [
    {
     "name": "stdout",
     "output_type": "stream",
     "text": [
      "<class 'pandas.core.frame.DataFrame'>\n",
      "RangeIndex: 26048 entries, 0 to 26047\n",
      "Data columns (total 26 columns):\n",
      " #   Column                    Non-Null Count  Dtype \n",
      "---  ------                    --------------  ----- \n",
      " 0   age                       26048 non-null  int64 \n",
      " 1   workclass                 26048 non-null  object\n",
      " 2   education                 26048 non-null  object\n",
      " 3   marital_status            26048 non-null  object\n",
      " 4   occupation                26048 non-null  object\n",
      " 5   hours_per_week            26048 non-null  int64 \n",
      " 6   income                    26048 non-null  int64 \n",
      " 7   workclass_Other/Unknown   26048 non-null  uint8 \n",
      " 8   workclass_Private         26048 non-null  uint8 \n",
      " 9   workclass_Self-Employed   26048 non-null  uint8 \n",
      " 10  marital_status_Married    26048 non-null  uint8 \n",
      " 11  marital_status_Separated  26048 non-null  uint8 \n",
      " 12  marital_status_Single     26048 non-null  uint8 \n",
      " 13  marital_status_Widowed    26048 non-null  uint8 \n",
      " 14  education_Bachelors       26048 non-null  uint8 \n",
      " 15  education_Doctorate       26048 non-null  uint8 \n",
      " 16  education_HS-grad         26048 non-null  uint8 \n",
      " 17  education_Masters         26048 non-null  uint8 \n",
      " 18  education_Prof-school     26048 non-null  uint8 \n",
      " 19  education_School          26048 non-null  uint8 \n",
      " 20  education_Some-college    26048 non-null  uint8 \n",
      " 21  occupation_Other/Unknown  26048 non-null  uint8 \n",
      " 22  occupation_Professional   26048 non-null  uint8 \n",
      " 23  occupation_Sales          26048 non-null  uint8 \n",
      " 24  occupation_Service        26048 non-null  uint8 \n",
      " 25  occupation_White-Collar   26048 non-null  uint8 \n",
      "dtypes: int64(3), object(4), uint8(19)\n",
      "memory usage: 1.9+ MB\n"
     ]
    }
   ],
   "source": [
    "df.info()"
   ]
  },
  {
   "cell_type": "code",
   "execution_count": 19,
   "metadata": {
    "ExecuteTime": {
     "end_time": "2021-09-28T13:02:39.502669Z",
     "start_time": "2021-09-28T13:02:39.498381Z"
    }
   },
   "outputs": [],
   "source": [
    "# dropping the original job, marital and edu columns\n",
    "\n",
    "df.drop(columns= ['workclass', 'education', 'marital_status', 'occupation'], inplace = True)"
   ]
  },
  {
   "cell_type": "code",
   "execution_count": 20,
   "metadata": {
    "ExecuteTime": {
     "end_time": "2021-09-28T13:02:39.513141Z",
     "start_time": "2021-09-28T13:02:39.504457Z"
    }
   },
   "outputs": [
    {
     "name": "stdout",
     "output_type": "stream",
     "text": [
      "<class 'pandas.core.frame.DataFrame'>\n",
      "RangeIndex: 26048 entries, 0 to 26047\n",
      "Data columns (total 22 columns):\n",
      " #   Column                    Non-Null Count  Dtype\n",
      "---  ------                    --------------  -----\n",
      " 0   age                       26048 non-null  int64\n",
      " 1   hours_per_week            26048 non-null  int64\n",
      " 2   income                    26048 non-null  int64\n",
      " 3   workclass_Other/Unknown   26048 non-null  uint8\n",
      " 4   workclass_Private         26048 non-null  uint8\n",
      " 5   workclass_Self-Employed   26048 non-null  uint8\n",
      " 6   marital_status_Married    26048 non-null  uint8\n",
      " 7   marital_status_Separated  26048 non-null  uint8\n",
      " 8   marital_status_Single     26048 non-null  uint8\n",
      " 9   marital_status_Widowed    26048 non-null  uint8\n",
      " 10  education_Bachelors       26048 non-null  uint8\n",
      " 11  education_Doctorate       26048 non-null  uint8\n",
      " 12  education_HS-grad         26048 non-null  uint8\n",
      " 13  education_Masters         26048 non-null  uint8\n",
      " 14  education_Prof-school     26048 non-null  uint8\n",
      " 15  education_School          26048 non-null  uint8\n",
      " 16  education_Some-college    26048 non-null  uint8\n",
      " 17  occupation_Other/Unknown  26048 non-null  uint8\n",
      " 18  occupation_Professional   26048 non-null  uint8\n",
      " 19  occupation_Sales          26048 non-null  uint8\n",
      " 20  occupation_Service        26048 non-null  uint8\n",
      " 21  occupation_White-Collar   26048 non-null  uint8\n",
      "dtypes: int64(3), uint8(19)\n",
      "memory usage: 1.1 MB\n"
     ]
    }
   ],
   "source": [
    "df.info()"
   ]
  },
  {
   "cell_type": "code",
   "execution_count": 21,
   "metadata": {
    "ExecuteTime": {
     "end_time": "2021-09-28T13:02:39.519468Z",
     "start_time": "2021-09-28T13:02:39.514790Z"
    }
   },
   "outputs": [
    {
     "data": {
      "text/plain": [
       "0    19820\n",
       "1     6228\n",
       "Name: income, dtype: int64"
      ]
     },
     "execution_count": 21,
     "metadata": {},
     "output_type": "execute_result"
    }
   ],
   "source": [
    "df.income.value_counts()"
   ]
  },
  {
   "cell_type": "code",
   "execution_count": 22,
   "metadata": {
    "ExecuteTime": {
     "end_time": "2021-09-28T13:02:39.541496Z",
     "start_time": "2021-09-28T13:02:39.525788Z"
    }
   },
   "outputs": [],
   "source": [
    "### Separate the majority and minority classes\n",
    "df_minority  = df[df['income']==1]\n",
    "df_majority = df[df['income']==0]\n",
    "\n",
    "### Now, downsamples majority labels equal to the number of samples in the minority class\n",
    "\n",
    "df_majority = df_majority.sample(500, random_state=0)\n",
    "df_minority = df_minority.sample(500, random_state=0)\n",
    "\n",
    "### concat the majority and minority dataframes\n",
    "df = pd.concat([df_majority,df_minority])\n",
    "\n",
    "## Shuffle the dataset to prevent the model from getting biased by similar samples\n",
    "df = df.sample(frac=1, random_state=0)"
   ]
  },
  {
   "cell_type": "code",
   "execution_count": 23,
   "metadata": {
    "ExecuteTime": {
     "end_time": "2021-09-28T13:02:39.552569Z",
     "start_time": "2021-09-28T13:02:39.545422Z"
    }
   },
   "outputs": [],
   "source": [
    "# saving final df as a csv\n",
    "\n",
    "df.to_csv(\"data/income-cleaned.csv\")"
   ]
  },
  {
   "cell_type": "code",
   "execution_count": 24,
   "metadata": {
    "ExecuteTime": {
     "end_time": "2021-09-28T13:02:39.556684Z",
     "start_time": "2021-09-28T13:02:39.554004Z"
    }
   },
   "outputs": [
    {
     "data": {
      "text/plain": [
       "(1000, 22)"
      ]
     },
     "execution_count": 24,
     "metadata": {},
     "output_type": "execute_result"
    }
   ],
   "source": [
    "df.shape"
   ]
  },
  {
   "cell_type": "code",
   "execution_count": null,
   "metadata": {},
   "outputs": [],
   "source": []
  }
 ],
 "metadata": {
  "kernelspec": {
   "display_name": "Python 3",
   "language": "python",
   "name": "python3"
  },
  "language_info": {
   "codemirror_mode": {
    "name": "ipython",
    "version": 3
   },
   "file_extension": ".py",
   "mimetype": "text/x-python",
   "name": "python",
   "nbconvert_exporter": "python",
   "pygments_lexer": "ipython3",
   "version": "3.8.5"
  },
  "toc": {
   "base_numbering": 1,
   "nav_menu": {},
   "number_sections": true,
   "sideBar": true,
   "skip_h1_title": false,
   "title_cell": "Table of Contents",
   "title_sidebar": "Contents",
   "toc_cell": false,
   "toc_position": {},
   "toc_section_display": true,
   "toc_window_display": false
  },
  "varInspector": {
   "cols": {
    "lenName": 16,
    "lenType": 16,
    "lenVar": 40
   },
   "kernels_config": {
    "python": {
     "delete_cmd_postfix": "",
     "delete_cmd_prefix": "del ",
     "library": "var_list.py",
     "varRefreshCmd": "print(var_dic_list())"
    },
    "r": {
     "delete_cmd_postfix": ") ",
     "delete_cmd_prefix": "rm(",
     "library": "var_list.r",
     "varRefreshCmd": "cat(var_dic_list()) "
    }
   },
   "types_to_exclude": [
    "module",
    "function",
    "builtin_function_or_method",
    "instance",
    "_Feature"
   ],
   "window_display": false
  }
 },
 "nbformat": 4,
 "nbformat_minor": 4
}
